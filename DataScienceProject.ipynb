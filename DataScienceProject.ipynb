{
  "nbformat": 4,
  "nbformat_minor": 0,
  "metadata": {
    "colab": {
      "name": "Untitled0.ipynb",
      "provenance": [],
      "authorship_tag": "ABX9TyOnKYvGKBRgQ8H0/8tUOzUd",
      "include_colab_link": true
    },
    "kernelspec": {
      "name": "python3",
      "display_name": "Python 3"
    }
  },
  "cells": [
    {
      "cell_type": "markdown",
      "metadata": {
        "id": "view-in-github",
        "colab_type": "text"
      },
      "source": [
        "<a href=\"https://colab.research.google.com/github/himanshusingh0981/Datascience-Essential/blob/main/DataScienceProject.ipynb\" target=\"_parent\"><img src=\"https://colab.research.google.com/assets/colab-badge.svg\" alt=\"Open In Colab\"/></a>"
      ]
    },
    {
      "cell_type": "markdown",
      "metadata": {
        "id": "4KDLgNYheLrW"
      },
      "source": [
        "#DATA ESSENSTIAL PROJECT"
      ]
    },
    {
      "cell_type": "markdown",
      "metadata": {
        "id": "3O13Kxr2PEV9"
      },
      "source": [
        "Task-1"
      ]
    },
    {
      "cell_type": "code",
      "metadata": {
        "id": "hGRzmQZCPF74",
        "outputId": "777996e0-e414-4892-87cb-64b1884319a8",
        "colab": {
          "base_uri": "https://localhost:8080/",
          "height": 215
        }
      },
      "source": [
        "import pandas as pd\n",
        "df=pd.read_csv(\"pubg - Dr. Darshan Ingle.csv\")\n",
        "df.head()"
      ],
      "execution_count": 2,
      "outputs": [
        {
          "output_type": "execute_result",
          "data": {
            "text/html": [
              "<div>\n",
              "<style scoped>\n",
              "    .dataframe tbody tr th:only-of-type {\n",
              "        vertical-align: middle;\n",
              "    }\n",
              "\n",
              "    .dataframe tbody tr th {\n",
              "        vertical-align: top;\n",
              "    }\n",
              "\n",
              "    .dataframe thead th {\n",
              "        text-align: right;\n",
              "    }\n",
              "</style>\n",
              "<table border=\"1\" class=\"dataframe\">\n",
              "  <thead>\n",
              "    <tr style=\"text-align: right;\">\n",
              "      <th></th>\n",
              "      <th>Id</th>\n",
              "      <th>groupId</th>\n",
              "      <th>matchId</th>\n",
              "      <th>assists</th>\n",
              "      <th>boosts</th>\n",
              "      <th>damageDealt</th>\n",
              "      <th>DBNOs</th>\n",
              "      <th>headshotKills</th>\n",
              "      <th>heals</th>\n",
              "      <th>killPlace</th>\n",
              "      <th>killPoints</th>\n",
              "      <th>kills</th>\n",
              "      <th>killStreaks</th>\n",
              "      <th>longestKill</th>\n",
              "      <th>matchDuration</th>\n",
              "      <th>matchType</th>\n",
              "      <th>maxPlace</th>\n",
              "      <th>numGroups</th>\n",
              "      <th>rankPoints</th>\n",
              "      <th>revives</th>\n",
              "      <th>rideDistance</th>\n",
              "      <th>roadKills</th>\n",
              "      <th>swimDistance</th>\n",
              "      <th>teamKills</th>\n",
              "      <th>vehicleDestroys</th>\n",
              "      <th>walkDistance</th>\n",
              "      <th>weaponsAcquired</th>\n",
              "      <th>winPoints</th>\n",
              "      <th>winPlacePerc</th>\n",
              "    </tr>\n",
              "  </thead>\n",
              "  <tbody>\n",
              "    <tr>\n",
              "      <th>0</th>\n",
              "      <td>2f262dd9795e60</td>\n",
              "      <td>78437bcd91d40e</td>\n",
              "      <td>d5db3a49eb2955</td>\n",
              "      <td>0</td>\n",
              "      <td>0</td>\n",
              "      <td>0.0</td>\n",
              "      <td>0</td>\n",
              "      <td>0</td>\n",
              "      <td>0</td>\n",
              "      <td>92</td>\n",
              "      <td>1126</td>\n",
              "      <td>0</td>\n",
              "      <td>0</td>\n",
              "      <td>0.000</td>\n",
              "      <td>1376</td>\n",
              "      <td>squad-fpp</td>\n",
              "      <td>29</td>\n",
              "      <td>28</td>\n",
              "      <td>-1</td>\n",
              "      <td>0</td>\n",
              "      <td>0.0</td>\n",
              "      <td>0</td>\n",
              "      <td>0.0</td>\n",
              "      <td>0</td>\n",
              "      <td>0</td>\n",
              "      <td>0.0</td>\n",
              "      <td>0</td>\n",
              "      <td>1470</td>\n",
              "      <td>0.0000</td>\n",
              "    </tr>\n",
              "    <tr>\n",
              "      <th>1</th>\n",
              "      <td>a32847cf5bf34b</td>\n",
              "      <td>85b7ce5a12e10b</td>\n",
              "      <td>65223f05c7fdb4</td>\n",
              "      <td>0</td>\n",
              "      <td>0</td>\n",
              "      <td>163.2</td>\n",
              "      <td>1</td>\n",
              "      <td>1</td>\n",
              "      <td>0</td>\n",
              "      <td>42</td>\n",
              "      <td>1309</td>\n",
              "      <td>1</td>\n",
              "      <td>1</td>\n",
              "      <td>6.589</td>\n",
              "      <td>1370</td>\n",
              "      <td>squad-fpp</td>\n",
              "      <td>28</td>\n",
              "      <td>28</td>\n",
              "      <td>-1</td>\n",
              "      <td>0</td>\n",
              "      <td>0.0</td>\n",
              "      <td>0</td>\n",
              "      <td>0.0</td>\n",
              "      <td>0</td>\n",
              "      <td>0</td>\n",
              "      <td>132.7</td>\n",
              "      <td>2</td>\n",
              "      <td>1531</td>\n",
              "      <td>0.2222</td>\n",
              "    </tr>\n",
              "    <tr>\n",
              "      <th>2</th>\n",
              "      <td>1b1900a9990396</td>\n",
              "      <td>edf80d6523380a</td>\n",
              "      <td>1cadec4534f30a</td>\n",
              "      <td>0</td>\n",
              "      <td>3</td>\n",
              "      <td>278.7</td>\n",
              "      <td>2</td>\n",
              "      <td>1</td>\n",
              "      <td>8</td>\n",
              "      <td>16</td>\n",
              "      <td>0</td>\n",
              "      <td>2</td>\n",
              "      <td>1</td>\n",
              "      <td>23.070</td>\n",
              "      <td>1381</td>\n",
              "      <td>squad-fpp</td>\n",
              "      <td>29</td>\n",
              "      <td>27</td>\n",
              "      <td>1479</td>\n",
              "      <td>3</td>\n",
              "      <td>0.0</td>\n",
              "      <td>0</td>\n",
              "      <td>0.0</td>\n",
              "      <td>0</td>\n",
              "      <td>0</td>\n",
              "      <td>3591.0</td>\n",
              "      <td>10</td>\n",
              "      <td>0</td>\n",
              "      <td>0.8571</td>\n",
              "    </tr>\n",
              "    <tr>\n",
              "      <th>3</th>\n",
              "      <td>f589dd03b60bf2</td>\n",
              "      <td>804ab5e5585558</td>\n",
              "      <td>c4a5676dc91604</td>\n",
              "      <td>0</td>\n",
              "      <td>0</td>\n",
              "      <td>191.9</td>\n",
              "      <td>1</td>\n",
              "      <td>0</td>\n",
              "      <td>0</td>\n",
              "      <td>31</td>\n",
              "      <td>0</td>\n",
              "      <td>1</td>\n",
              "      <td>1</td>\n",
              "      <td>24.890</td>\n",
              "      <td>1708</td>\n",
              "      <td>squad</td>\n",
              "      <td>27</td>\n",
              "      <td>25</td>\n",
              "      <td>1500</td>\n",
              "      <td>0</td>\n",
              "      <td>0.0</td>\n",
              "      <td>0</td>\n",
              "      <td>0.0</td>\n",
              "      <td>0</td>\n",
              "      <td>0</td>\n",
              "      <td>332.7</td>\n",
              "      <td>3</td>\n",
              "      <td>0</td>\n",
              "      <td>0.3462</td>\n",
              "    </tr>\n",
              "    <tr>\n",
              "      <th>4</th>\n",
              "      <td>c23c4cc5b78b35</td>\n",
              "      <td>b3e2cd169ed920</td>\n",
              "      <td>cd595700a01bfa</td>\n",
              "      <td>0</td>\n",
              "      <td>0</td>\n",
              "      <td>100.0</td>\n",
              "      <td>1</td>\n",
              "      <td>0</td>\n",
              "      <td>0</td>\n",
              "      <td>87</td>\n",
              "      <td>1332</td>\n",
              "      <td>0</td>\n",
              "      <td>0</td>\n",
              "      <td>0.000</td>\n",
              "      <td>1807</td>\n",
              "      <td>squad-fpp</td>\n",
              "      <td>30</td>\n",
              "      <td>30</td>\n",
              "      <td>-1</td>\n",
              "      <td>0</td>\n",
              "      <td>0.0</td>\n",
              "      <td>0</td>\n",
              "      <td>0.0</td>\n",
              "      <td>0</td>\n",
              "      <td>0</td>\n",
              "      <td>252.7</td>\n",
              "      <td>3</td>\n",
              "      <td>1557</td>\n",
              "      <td>0.0690</td>\n",
              "    </tr>\n",
              "  </tbody>\n",
              "</table>\n",
              "</div>"
            ],
            "text/plain": [
              "               Id         groupId  ... winPoints  winPlacePerc\n",
              "0  2f262dd9795e60  78437bcd91d40e  ...      1470        0.0000\n",
              "1  a32847cf5bf34b  85b7ce5a12e10b  ...      1531        0.2222\n",
              "2  1b1900a9990396  edf80d6523380a  ...         0        0.8571\n",
              "3  f589dd03b60bf2  804ab5e5585558  ...         0        0.3462\n",
              "4  c23c4cc5b78b35  b3e2cd169ed920  ...      1557        0.0690\n",
              "\n",
              "[5 rows x 29 columns]"
            ]
          },
          "metadata": {
            "tags": []
          },
          "execution_count": 2
        }
      ]
    },
    {
      "cell_type": "markdown",
      "metadata": {
        "id": "mX2f6jzRPHzu"
      },
      "source": [
        "Task-2"
      ]
    },
    {
      "cell_type": "code",
      "metadata": {
        "id": "ellfnfJLPRRR",
        "outputId": "18ba021b-fbef-4c28-bf57-f458496a5b92",
        "colab": {
          "base_uri": "https://localhost:8080/"
        }
      },
      "source": [
        "df.dtypes"
      ],
      "execution_count": 3,
      "outputs": [
        {
          "output_type": "execute_result",
          "data": {
            "text/plain": [
              "Id                  object\n",
              "groupId             object\n",
              "matchId             object\n",
              "assists              int64\n",
              "boosts               int64\n",
              "damageDealt        float64\n",
              "DBNOs                int64\n",
              "headshotKills        int64\n",
              "heals                int64\n",
              "killPlace            int64\n",
              "killPoints           int64\n",
              "kills                int64\n",
              "killStreaks          int64\n",
              "longestKill        float64\n",
              "matchDuration        int64\n",
              "matchType           object\n",
              "maxPlace             int64\n",
              "numGroups            int64\n",
              "rankPoints           int64\n",
              "revives              int64\n",
              "rideDistance       float64\n",
              "roadKills            int64\n",
              "swimDistance       float64\n",
              "teamKills            int64\n",
              "vehicleDestroys      int64\n",
              "walkDistance       float64\n",
              "weaponsAcquired      int64\n",
              "winPoints            int64\n",
              "winPlacePerc       float64\n",
              "dtype: object"
            ]
          },
          "metadata": {
            "tags": []
          },
          "execution_count": 3
        }
      ]
    },
    {
      "cell_type": "markdown",
      "metadata": {
        "id": "zZv1Y6V0PnJa"
      },
      "source": [
        "Task-3"
      ]
    },
    {
      "cell_type": "code",
      "metadata": {
        "id": "ecAyn4M9Po1Z",
        "outputId": "9570ed47-7f5f-4d72-e894-9b20273f8406",
        "colab": {
          "base_uri": "https://localhost:8080/",
          "height": 304
        }
      },
      "source": [
        "df.describe()"
      ],
      "execution_count": 4,
      "outputs": [
        {
          "output_type": "execute_result",
          "data": {
            "text/html": [
              "<div>\n",
              "<style scoped>\n",
              "    .dataframe tbody tr th:only-of-type {\n",
              "        vertical-align: middle;\n",
              "    }\n",
              "\n",
              "    .dataframe tbody tr th {\n",
              "        vertical-align: top;\n",
              "    }\n",
              "\n",
              "    .dataframe thead th {\n",
              "        text-align: right;\n",
              "    }\n",
              "</style>\n",
              "<table border=\"1\" class=\"dataframe\">\n",
              "  <thead>\n",
              "    <tr style=\"text-align: right;\">\n",
              "      <th></th>\n",
              "      <th>assists</th>\n",
              "      <th>boosts</th>\n",
              "      <th>damageDealt</th>\n",
              "      <th>DBNOs</th>\n",
              "      <th>headshotKills</th>\n",
              "      <th>heals</th>\n",
              "      <th>killPlace</th>\n",
              "      <th>killPoints</th>\n",
              "      <th>kills</th>\n",
              "      <th>killStreaks</th>\n",
              "      <th>longestKill</th>\n",
              "      <th>matchDuration</th>\n",
              "      <th>maxPlace</th>\n",
              "      <th>numGroups</th>\n",
              "      <th>rankPoints</th>\n",
              "      <th>revives</th>\n",
              "      <th>rideDistance</th>\n",
              "      <th>roadKills</th>\n",
              "      <th>swimDistance</th>\n",
              "      <th>teamKills</th>\n",
              "      <th>vehicleDestroys</th>\n",
              "      <th>walkDistance</th>\n",
              "      <th>weaponsAcquired</th>\n",
              "      <th>winPoints</th>\n",
              "      <th>winPlacePerc</th>\n",
              "    </tr>\n",
              "  </thead>\n",
              "  <tbody>\n",
              "    <tr>\n",
              "      <th>count</th>\n",
              "      <td>10000.000000</td>\n",
              "      <td>10000.000000</td>\n",
              "      <td>10000.000000</td>\n",
              "      <td>10000.00000</td>\n",
              "      <td>10000.000000</td>\n",
              "      <td>10000.000000</td>\n",
              "      <td>10000.000000</td>\n",
              "      <td>10000.000000</td>\n",
              "      <td>10000.000000</td>\n",
              "      <td>10000.000000</td>\n",
              "      <td>10000.000000</td>\n",
              "      <td>10000.000000</td>\n",
              "      <td>10000.000000</td>\n",
              "      <td>10000.000000</td>\n",
              "      <td>10000.000000</td>\n",
              "      <td>10000.000000</td>\n",
              "      <td>10000.000000</td>\n",
              "      <td>10000.000000</td>\n",
              "      <td>10000.000000</td>\n",
              "      <td>10000.000000</td>\n",
              "      <td>10000.000000</td>\n",
              "      <td>10000.000000</td>\n",
              "      <td>10000.00000</td>\n",
              "      <td>10000.0000</td>\n",
              "      <td>10000.000000</td>\n",
              "    </tr>\n",
              "    <tr>\n",
              "      <th>mean</th>\n",
              "      <td>0.234600</td>\n",
              "      <td>1.088500</td>\n",
              "      <td>129.211264</td>\n",
              "      <td>0.64400</td>\n",
              "      <td>0.221700</td>\n",
              "      <td>1.354000</td>\n",
              "      <td>47.663100</td>\n",
              "      <td>506.970200</td>\n",
              "      <td>0.913400</td>\n",
              "      <td>0.543800</td>\n",
              "      <td>23.272333</td>\n",
              "      <td>1575.398000</td>\n",
              "      <td>44.655500</td>\n",
              "      <td>43.151300</td>\n",
              "      <td>889.699600</td>\n",
              "      <td>0.160200</td>\n",
              "      <td>600.693584</td>\n",
              "      <td>0.004200</td>\n",
              "      <td>4.385917</td>\n",
              "      <td>0.024400</td>\n",
              "      <td>0.007700</td>\n",
              "      <td>1130.008410</td>\n",
              "      <td>3.63590</td>\n",
              "      <td>609.3440</td>\n",
              "      <td>0.469926</td>\n",
              "    </tr>\n",
              "    <tr>\n",
              "      <th>std</th>\n",
              "      <td>0.575149</td>\n",
              "      <td>1.703279</td>\n",
              "      <td>167.193945</td>\n",
              "      <td>1.09562</td>\n",
              "      <td>0.577046</td>\n",
              "      <td>2.629102</td>\n",
              "      <td>27.424146</td>\n",
              "      <td>627.297959</td>\n",
              "      <td>1.524117</td>\n",
              "      <td>0.701948</td>\n",
              "      <td>50.536262</td>\n",
              "      <td>258.963515</td>\n",
              "      <td>23.800859</td>\n",
              "      <td>23.272567</td>\n",
              "      <td>738.535034</td>\n",
              "      <td>0.454045</td>\n",
              "      <td>1524.915601</td>\n",
              "      <td>0.074719</td>\n",
              "      <td>30.889620</td>\n",
              "      <td>0.171486</td>\n",
              "      <td>0.089674</td>\n",
              "      <td>1168.597983</td>\n",
              "      <td>2.42209</td>\n",
              "      <td>739.7924</td>\n",
              "      <td>0.304508</td>\n",
              "    </tr>\n",
              "    <tr>\n",
              "      <th>min</th>\n",
              "      <td>0.000000</td>\n",
              "      <td>0.000000</td>\n",
              "      <td>0.000000</td>\n",
              "      <td>0.00000</td>\n",
              "      <td>0.000000</td>\n",
              "      <td>0.000000</td>\n",
              "      <td>1.000000</td>\n",
              "      <td>0.000000</td>\n",
              "      <td>0.000000</td>\n",
              "      <td>0.000000</td>\n",
              "      <td>0.000000</td>\n",
              "      <td>464.000000</td>\n",
              "      <td>2.000000</td>\n",
              "      <td>2.000000</td>\n",
              "      <td>-1.000000</td>\n",
              "      <td>0.000000</td>\n",
              "      <td>0.000000</td>\n",
              "      <td>0.000000</td>\n",
              "      <td>0.000000</td>\n",
              "      <td>0.000000</td>\n",
              "      <td>0.000000</td>\n",
              "      <td>0.000000</td>\n",
              "      <td>0.00000</td>\n",
              "      <td>0.0000</td>\n",
              "      <td>0.000000</td>\n",
              "    </tr>\n",
              "    <tr>\n",
              "      <th>25%</th>\n",
              "      <td>0.000000</td>\n",
              "      <td>0.000000</td>\n",
              "      <td>0.000000</td>\n",
              "      <td>0.00000</td>\n",
              "      <td>0.000000</td>\n",
              "      <td>0.000000</td>\n",
              "      <td>24.000000</td>\n",
              "      <td>0.000000</td>\n",
              "      <td>0.000000</td>\n",
              "      <td>0.000000</td>\n",
              "      <td>0.000000</td>\n",
              "      <td>1366.000000</td>\n",
              "      <td>28.000000</td>\n",
              "      <td>27.000000</td>\n",
              "      <td>-1.000000</td>\n",
              "      <td>0.000000</td>\n",
              "      <td>0.000000</td>\n",
              "      <td>0.000000</td>\n",
              "      <td>0.000000</td>\n",
              "      <td>0.000000</td>\n",
              "      <td>0.000000</td>\n",
              "      <td>151.575000</td>\n",
              "      <td>2.00000</td>\n",
              "      <td>0.0000</td>\n",
              "      <td>0.200000</td>\n",
              "    </tr>\n",
              "    <tr>\n",
              "      <th>50%</th>\n",
              "      <td>0.000000</td>\n",
              "      <td>0.000000</td>\n",
              "      <td>83.805000</td>\n",
              "      <td>0.00000</td>\n",
              "      <td>0.000000</td>\n",
              "      <td>0.000000</td>\n",
              "      <td>48.000000</td>\n",
              "      <td>0.000000</td>\n",
              "      <td>0.000000</td>\n",
              "      <td>0.000000</td>\n",
              "      <td>0.000000</td>\n",
              "      <td>1431.500000</td>\n",
              "      <td>30.000000</td>\n",
              "      <td>30.000000</td>\n",
              "      <td>1444.000000</td>\n",
              "      <td>0.000000</td>\n",
              "      <td>0.000000</td>\n",
              "      <td>0.000000</td>\n",
              "      <td>0.000000</td>\n",
              "      <td>0.000000</td>\n",
              "      <td>0.000000</td>\n",
              "      <td>650.350000</td>\n",
              "      <td>3.00000</td>\n",
              "      <td>0.0000</td>\n",
              "      <td>0.458300</td>\n",
              "    </tr>\n",
              "    <tr>\n",
              "      <th>75%</th>\n",
              "      <td>0.000000</td>\n",
              "      <td>2.000000</td>\n",
              "      <td>185.325000</td>\n",
              "      <td>1.00000</td>\n",
              "      <td>0.000000</td>\n",
              "      <td>2.000000</td>\n",
              "      <td>71.000000</td>\n",
              "      <td>1169.000000</td>\n",
              "      <td>1.000000</td>\n",
              "      <td>1.000000</td>\n",
              "      <td>22.345000</td>\n",
              "      <td>1849.250000</td>\n",
              "      <td>49.000000</td>\n",
              "      <td>47.000000</td>\n",
              "      <td>1500.000000</td>\n",
              "      <td>0.000000</td>\n",
              "      <td>0.000575</td>\n",
              "      <td>0.000000</td>\n",
              "      <td>0.000000</td>\n",
              "      <td>0.000000</td>\n",
              "      <td>0.000000</td>\n",
              "      <td>1923.250000</td>\n",
              "      <td>5.00000</td>\n",
              "      <td>1495.0000</td>\n",
              "      <td>0.735100</td>\n",
              "    </tr>\n",
              "    <tr>\n",
              "      <th>max</th>\n",
              "      <td>7.000000</td>\n",
              "      <td>18.000000</td>\n",
              "      <td>3469.000000</td>\n",
              "      <td>11.00000</td>\n",
              "      <td>14.000000</td>\n",
              "      <td>31.000000</td>\n",
              "      <td>100.000000</td>\n",
              "      <td>1926.000000</td>\n",
              "      <td>35.000000</td>\n",
              "      <td>4.000000</td>\n",
              "      <td>538.600000</td>\n",
              "      <td>2202.000000</td>\n",
              "      <td>100.000000</td>\n",
              "      <td>100.000000</td>\n",
              "      <td>2835.000000</td>\n",
              "      <td>5.000000</td>\n",
              "      <td>28780.000000</td>\n",
              "      <td>3.000000</td>\n",
              "      <td>971.200000</td>\n",
              "      <td>3.000000</td>\n",
              "      <td>2.000000</td>\n",
              "      <td>10490.000000</td>\n",
              "      <td>41.00000</td>\n",
              "      <td>1863.0000</td>\n",
              "      <td>1.000000</td>\n",
              "    </tr>\n",
              "  </tbody>\n",
              "</table>\n",
              "</div>"
            ],
            "text/plain": [
              "            assists        boosts  ...   winPoints  winPlacePerc\n",
              "count  10000.000000  10000.000000  ...  10000.0000  10000.000000\n",
              "mean       0.234600      1.088500  ...    609.3440      0.469926\n",
              "std        0.575149      1.703279  ...    739.7924      0.304508\n",
              "min        0.000000      0.000000  ...      0.0000      0.000000\n",
              "25%        0.000000      0.000000  ...      0.0000      0.200000\n",
              "50%        0.000000      0.000000  ...      0.0000      0.458300\n",
              "75%        0.000000      2.000000  ...   1495.0000      0.735100\n",
              "max        7.000000     18.000000  ...   1863.0000      1.000000\n",
              "\n",
              "[8 rows x 25 columns]"
            ]
          },
          "metadata": {
            "tags": []
          },
          "execution_count": 4
        }
      ]
    },
    {
      "cell_type": "markdown",
      "metadata": {
        "id": "EK_10QNzPudm"
      },
      "source": [
        "Task-4"
      ]
    },
    {
      "cell_type": "code",
      "metadata": {
        "id": "o7SgcAcyPv8V",
        "outputId": "36e3deda-65fa-491f-b5f4-02ad53a2673d",
        "colab": {
          "base_uri": "https://localhost:8080/"
        }
      },
      "source": [
        "avg = df[\"kills\"].mean()\n",
        "avg"
      ],
      "execution_count": 5,
      "outputs": [
        {
          "output_type": "execute_result",
          "data": {
            "text/plain": [
              "0.9134"
            ]
          },
          "metadata": {
            "tags": []
          },
          "execution_count": 5
        }
      ]
    },
    {
      "cell_type": "markdown",
      "metadata": {
        "id": "QRG4nJobQa7o"
      },
      "source": [
        "Task-5"
      ]
    },
    {
      "cell_type": "code",
      "metadata": {
        "id": "n_9vSTnyQcDi",
        "outputId": "a0a2e817-9564-45a3-b12c-0cc9a362d169",
        "colab": {
          "base_uri": "https://localhost:8080/"
        }
      },
      "source": [
        "99*df[\"kills\"].sum()/100"
      ],
      "execution_count": 6,
      "outputs": [
        {
          "output_type": "execute_result",
          "data": {
            "text/plain": [
              "9042.66"
            ]
          },
          "metadata": {
            "tags": []
          },
          "execution_count": 6
        }
      ]
    },
    {
      "cell_type": "markdown",
      "metadata": {
        "id": "g6rQJFMSRfH1"
      },
      "source": [
        "Task-6"
      ]
    },
    {
      "cell_type": "code",
      "metadata": {
        "id": "Cexq74c6RiLG",
        "outputId": "134b369b-9b25-41fb-cb5d-eb0e87875d22",
        "colab": {
          "base_uri": "https://localhost:8080/"
        }
      },
      "source": [
        "df[\"kills\"].max()"
      ],
      "execution_count": 7,
      "outputs": [
        {
          "output_type": "execute_result",
          "data": {
            "text/plain": [
              "35"
            ]
          },
          "metadata": {
            "tags": []
          },
          "execution_count": 7
        }
      ]
    },
    {
      "cell_type": "markdown",
      "metadata": {
        "id": "SRXKayBSRnWB"
      },
      "source": [
        "Task-7"
      ]
    },
    {
      "cell_type": "code",
      "metadata": {
        "id": "pNlK8OiMRo9a",
        "outputId": "3c14d920-67df-48c2-d834-5d468de38531",
        "colab": {
          "base_uri": "https://localhost:8080/"
        }
      },
      "source": [
        "df.columns"
      ],
      "execution_count": 8,
      "outputs": [
        {
          "output_type": "execute_result",
          "data": {
            "text/plain": [
              "Index(['Id', 'groupId', 'matchId', 'assists', 'boosts', 'damageDealt', 'DBNOs',\n",
              "       'headshotKills', 'heals', 'killPlace', 'killPoints', 'kills',\n",
              "       'killStreaks', 'longestKill', 'matchDuration', 'matchType', 'maxPlace',\n",
              "       'numGroups', 'rankPoints', 'revives', 'rideDistance', 'roadKills',\n",
              "       'swimDistance', 'teamKills', 'vehicleDestroys', 'walkDistance',\n",
              "       'weaponsAcquired', 'winPoints', 'winPlacePerc'],\n",
              "      dtype='object')"
            ]
          },
          "metadata": {
            "tags": []
          },
          "execution_count": 8
        }
      ]
    },
    {
      "cell_type": "markdown",
      "metadata": {
        "id": "j5qQOMzRRxvd"
      },
      "source": [
        "Task-8"
      ]
    },
    {
      "cell_type": "code",
      "metadata": {
        "id": "442c69G5RzcW",
        "outputId": "97ef4cf9-db89-481e-a043-a27b0f2b0539",
        "colab": {
          "base_uri": "https://localhost:8080/",
          "height": 386
        }
      },
      "source": [
        "import seaborn as sns\n",
        "sns.displot(df[\"matchDuration\"])"
      ],
      "execution_count": 9,
      "outputs": [
        {
          "output_type": "execute_result",
          "data": {
            "text/plain": [
              "<seaborn.axisgrid.FacetGrid at 0x7f3e94dfb860>"
            ]
          },
          "metadata": {
            "tags": []
          },
          "execution_count": 9
        },
        {
          "output_type": "display_data",
          "data": {
            "image/png": "[encoded data removed]",
            "text/plain": [
              "<Figure size 360x360 with 1 Axes>"
            ]
          },
          "metadata": {
            "tags": [],
            "needs_background": "light"
          }
        }
      ]
    },
    {
      "cell_type": "markdown",
      "metadata": {
        "id": "OksWxVWuSlpo"
      },
      "source": [
        "Task-9"
      ]
    },
    {
      "cell_type": "code",
      "metadata": {
        "id": "JrU6X103Sqpn",
        "outputId": "ef278fa8-de62-4e39-e1e9-b75f4b6fbd16",
        "colab": {
          "base_uri": "https://localhost:8080/",
          "height": 386
        }
      },
      "source": [
        "import seaborn as sns\n",
        "sns.displot(df[\"walkDistance\"])"
      ],
      "execution_count": 10,
      "outputs": [
        {
          "output_type": "execute_result",
          "data": {
            "text/plain": [
              "<seaborn.axisgrid.FacetGrid at 0x7f3e94dcfdd8>"
            ]
          },
          "metadata": {
            "tags": []
          },
          "execution_count": 10
        },
        {
          "output_type": "display_data",
          "data": {
            "image/png": "[encoded data removed]",
            "text/plain": [
              "<Figure size 360x360 with 1 Axes>"
            ]
          },
          "metadata": {
            "tags": [],
            "needs_background": "light"
          }
        }
      ]
    },
    {
      "cell_type": "markdown",
      "metadata": {
        "id": "UFQue6gTSxJg"
      },
      "source": [
        "Task-10"
      ]
    },
    {
      "cell_type": "code",
      "metadata": {
        "id": "Inx0eU8zSzfD",
        "outputId": "71a158b9-7f46-421e-8426-a70937318a57",
        "colab": {
          "base_uri": "https://localhost:8080/",
          "height": 282
        }
      },
      "source": [
        "import matplotlib.pyplot as plt\n",
        "plt.figure(1)\n",
        "plt.subplot(211)\n",
        "plt.plot(df[\"matchDuration\"])\n",
        "plt.subplot(212)\n",
        "plt.plot(df[\"walkDistance\"])"
      ],
      "execution_count": 11,
      "outputs": [
        {
          "output_type": "execute_result",
          "data": {
            "text/plain": [
              "[<matplotlib.lines.Line2D at 0x7f3e902d0780>]"
            ]
          },
          "metadata": {
            "tags": []
          },
          "execution_count": 11
        },
        {
          "output_type": "display_data",
          "data": {
            "image/png": "[encoded data removed]",
            "text/plain": [
              "<Figure size 432x288 with 2 Axes>"
            ]
          },
          "metadata": {
            "tags": [],
            "needs_background": "light"
          }
        }
      ]
    },
    {
      "cell_type": "markdown",
      "metadata": {
        "id": "zmi5193fT_fQ"
      },
      "source": [
        "Task-11"
      ]
    },
    {
      "cell_type": "code",
      "metadata": {
        "id": "yKvhPv_iUCFP",
        "outputId": "e4eb360d-ba3e-474e-aeac-8cafa59be057",
        "colab": {
          "base_uri": "https://localhost:8080/",
          "height": 282
        }
      },
      "source": [
        "import matplotlib.pyplot as plt\n",
        "plt.figure(1)\n",
        "plt.subplot(121)\n",
        "plt.plot(df[\"matchDuration\"])\n",
        "plt.subplot(122)\n",
        "plt.plot(df[\"walkDistance\"])"
      ],
      "execution_count": 12,
      "outputs": [
        {
          "output_type": "execute_result",
          "data": {
            "text/plain": [
              "[<matplotlib.lines.Line2D at 0x7f3e9020a1d0>]"
            ]
          },
          "metadata": {
            "tags": []
          },
          "execution_count": 12
        },
        {
          "output_type": "display_data",
          "data": {
            "image/png": "[encoded data removed]",
            "text/plain": [
              "<Figure size 432x288 with 2 Axes>"
            ]
          },
          "metadata": {
            "tags": [],
            "needs_background": "light"
          }
        }
      ]
    },
    {
      "cell_type": "markdown",
      "metadata": {
        "id": "-jUAz65rUJN4"
      },
      "source": [
        "Task-12"
      ]
    },
    {
      "cell_type": "markdown",
      "metadata": {
        "id": "GRLy0i-lW3jk"
      },
      "source": [
        "Task-13"
      ]
    },
    {
      "cell_type": "code",
      "metadata": {
        "id": "0Y0S6igpXU1R",
        "outputId": "9066ebf7-281f-421b-809f-2862f8eeaa22",
        "colab": {
          "base_uri": "https://localhost:8080/"
        }
      },
      "source": [
        "df[\"matchType\"].unique()"
      ],
      "execution_count": 15,
      "outputs": [
        {
          "output_type": "execute_result",
          "data": {
            "text/plain": [
              "array(['squad-fpp', 'squad', 'duo-fpp', 'solo-fpp', 'duo', 'solo',\n",
              "       'crashfpp', 'flaretpp', 'normal-squad-fpp', 'normal-duo-fpp',\n",
              "       'flarefpp', 'normal-squad', 'normal-solo-fpp', 'crashtpp'],\n",
              "      dtype=object)"
            ]
          },
          "metadata": {
            "tags": []
          },
          "execution_count": 15
        }
      ]
    },
    {
      "cell_type": "markdown",
      "metadata": {
        "id": "CrMINtuPXWiC"
      },
      "source": [
        "Task-14"
      ]
    },
    {
      "cell_type": "code",
      "metadata": {
        "id": "rR36gLI7XYKz",
        "outputId": "b0749781-6f1f-42cc-b881-98f83f5a74e5",
        "colab": {
          "base_uri": "https://localhost:8080/",
          "height": 392
        }
      },
      "source": [
        "import matplotlib.pyplot as plt\n",
        "import seaborn as sb\n",
        "sb.barplot(x=\"matchType\",y=\"killPoints\",data=df)\n",
        "plt.xticks(rotation=90)"
      ],
      "execution_count": 19,
      "outputs": [
        {
          "output_type": "execute_result",
          "data": {
            "text/plain": [
              "(array([ 0,  1,  2,  3,  4,  5,  6,  7,  8,  9, 10, 11, 12, 13]),\n",
              " <a list of 14 Text major ticklabel objects>)"
            ]
          },
          "metadata": {
            "tags": []
          },
          "execution_count": 19
        },
        {
          "output_type": "display_data",
          "data": {
            "image/png": "[encoded data removed]",
            "text/plain": [
              "<Figure size 432x288 with 1 Axes>"
            ]
          },
          "metadata": {
            "tags": [],
            "needs_background": "light"
          }
        }
      ]
    },
    {
      "cell_type": "markdown",
      "metadata": {
        "id": "0ekuh7bvYc3g"
      },
      "source": [
        "Task-15"
      ]
    },
    {
      "cell_type": "code",
      "metadata": {
        "id": "xVXx1dw3Yfow",
        "outputId": "9155d6b3-8da3-4a7a-f396-d348fe8d11fc",
        "colab": {
          "base_uri": "https://localhost:8080/",
          "height": 392
        }
      },
      "source": [
        "sb.barplot(x=\"matchType\",y=\"weaponsAcquired\",data=df)\n",
        "plt.xticks(rotation=90)"
      ],
      "execution_count": 22,
      "outputs": [
        {
          "output_type": "execute_result",
          "data": {
            "text/plain": [
              "(array([ 0,  1,  2,  3,  4,  5,  6,  7,  8,  9, 10, 11, 12, 13]),\n",
              " <a list of 14 Text major ticklabel objects>)"
            ]
          },
          "metadata": {
            "tags": []
          },
          "execution_count": 22
        },
        {
          "output_type": "display_data",
          "data": {
            "image/png": "[encoded data removed]",
            "text/plain": [
              "<Figure size 432x288 with 1 Axes>"
            ]
          },
          "metadata": {
            "tags": [],
            "needs_background": "light"
          }
        }
      ]
    },
    {
      "cell_type": "markdown",
      "metadata": {
        "id": "gpksMOGxY4tb"
      },
      "source": [
        "Task-16"
      ]
    },
    {
      "cell_type": "markdown",
      "metadata": {
        "id": "lpHFqZ1iaLIa"
      },
      "source": [
        "Task-17"
      ]
    },
    {
      "cell_type": "code",
      "metadata": {
        "id": "_yy_X9HVaM9K",
        "outputId": "a0af15e4-8100-4ce6-ede9-c484916fb8da",
        "colab": {
          "base_uri": "https://localhost:8080/",
          "height": 392
        }
      },
      "source": [
        "sb.barplot(x=\"matchType\",y=\"winPlacePerc\",data=df)\n",
        "plt.xticks(rotation=90)"
      ],
      "execution_count": 28,
      "outputs": [
        {
          "output_type": "execute_result",
          "data": {
            "text/plain": [
              "(array([ 0,  1,  2,  3,  4,  5,  6,  7,  8,  9, 10, 11, 12, 13]),\n",
              " <a list of 14 Text major ticklabel objects>)"
            ]
          },
          "metadata": {
            "tags": []
          },
          "execution_count": 28
        },
        {
          "output_type": "display_data",
          "data": {
            "image/png": "[encoded data removed]",
            "text/plain": [
              "<Figure size 432x288 with 1 Axes>"
            ]
          },
          "metadata": {
            "tags": [],
            "needs_background": "light"
          }
        }
      ]
    },
    {
      "cell_type": "markdown",
      "metadata": {
        "id": "CB1xjYhRacA8"
      },
      "source": [
        "Task-18"
      ]
    },
    {
      "cell_type": "code",
      "metadata": {
        "id": "kbwtbZU8adxe",
        "outputId": "2bcd3974-36cd-443d-c723-8fcc4f291831",
        "colab": {
          "base_uri": "https://localhost:8080/",
          "height": 392
        }
      },
      "source": [
        "sb.barplot(x=\"matchType\",y=\"matchDuration\",data=df)\n",
        "plt.xticks(rotation=90)"
      ],
      "execution_count": 29,
      "outputs": [
        {
          "output_type": "execute_result",
          "data": {
            "text/plain": [
              "(array([ 0,  1,  2,  3,  4,  5,  6,  7,  8,  9, 10, 11, 12, 13]),\n",
              " <a list of 14 Text major ticklabel objects>)"
            ]
          },
          "metadata": {
            "tags": []
          },
          "execution_count": 29
        },
        {
          "output_type": "display_data",
          "data": {
            "image/png": "[encoded data removed]",
            "text/plain": [
              "<Figure size 432x288 with 1 Axes>"
            ]
          },
          "metadata": {
            "tags": [],
            "needs_background": "light"
          }
        }
      ]
    },
    {
      "cell_type": "markdown",
      "metadata": {
        "id": "GIGCX8tYbv5o"
      },
      "source": [
        "Task-19"
      ]
    },
    {
      "cell_type": "code",
      "metadata": {
        "id": "L1SibSyZalsY",
        "outputId": "45fbe52f-d231-4c12-deac-2359c38231c5",
        "colab": {
          "base_uri": "https://localhost:8080/",
          "height": 296
        }
      },
      "source": [
        "ax = sns.barplot(x='matchDuration', y='matchType', data=df)\n",
        "ax.set_xlabel('matchDuration')"
      ],
      "execution_count": 34,
      "outputs": [
        {
          "output_type": "execute_result",
          "data": {
            "text/plain": [
              "Text(0.5, 0, 'matchDuration')"
            ]
          },
          "metadata": {
            "tags": []
          },
          "execution_count": 34
        },
        {
          "output_type": "display_data",
          "data": {
            "image/png": "[encoded data removed]",
            "text/plain": [
              "<Figure size 432x288 with 1 Axes>"
            ]
          },
          "metadata": {
            "tags": [],
            "needs_background": "light"
          }
        }
      ]
    },
    {
      "cell_type": "markdown",
      "metadata": {
        "id": "nADqo06vbyTM"
      },
      "source": [
        "Task-20"
      ]
    },
    {
      "cell_type": "code",
      "metadata": {
        "id": "RY3tk_33bze0",
        "outputId": "9af63a62-3e58-4422-dd93-d77982ca3dce",
        "colab": {
          "base_uri": "https://localhost:8080/",
          "height": 215
        }
      },
      "source": [
        "df[\"kill\"]=df[\"headshotKills\"]+df[\"teamKills\"]+df[\"roadKills\"]\n",
        "df.head()"
      ],
      "execution_count": 36,
      "outputs": [
        {
          "output_type": "execute_result",
          "data": {
            "text/html": [
              "<div>\n",
              "<style scoped>\n",
              "    .dataframe tbody tr th:only-of-type {\n",
              "        vertical-align: middle;\n",
              "    }\n",
              "\n",
              "    .dataframe tbody tr th {\n",
              "        vertical-align: top;\n",
              "    }\n",
              "\n",
              "    .dataframe thead th {\n",
              "        text-align: right;\n",
              "    }\n",
              "</style>\n",
              "<table border=\"1\" class=\"dataframe\">\n",
              "  <thead>\n",
              "    <tr style=\"text-align: right;\">\n",
              "      <th></th>\n",
              "      <th>Id</th>\n",
              "      <th>groupId</th>\n",
              "      <th>matchId</th>\n",
              "      <th>assists</th>\n",
              "      <th>boosts</th>\n",
              "      <th>damageDealt</th>\n",
              "      <th>DBNOs</th>\n",
              "      <th>headshotKills</th>\n",
              "      <th>heals</th>\n",
              "      <th>killPlace</th>\n",
              "      <th>killPoints</th>\n",
              "      <th>kills</th>\n",
              "      <th>killStreaks</th>\n",
              "      <th>longestKill</th>\n",
              "      <th>matchDuration</th>\n",
              "      <th>matchType</th>\n",
              "      <th>maxPlace</th>\n",
              "      <th>numGroups</th>\n",
              "      <th>rankPoints</th>\n",
              "      <th>revives</th>\n",
              "      <th>rideDistance</th>\n",
              "      <th>roadKills</th>\n",
              "      <th>swimDistance</th>\n",
              "      <th>teamKills</th>\n",
              "      <th>vehicleDestroys</th>\n",
              "      <th>walkDistance</th>\n",
              "      <th>weaponsAcquired</th>\n",
              "      <th>winPoints</th>\n",
              "      <th>winPlacePerc</th>\n",
              "      <th>kill</th>\n",
              "    </tr>\n",
              "  </thead>\n",
              "  <tbody>\n",
              "    <tr>\n",
              "      <th>0</th>\n",
              "      <td>2f262dd9795e60</td>\n",
              "      <td>78437bcd91d40e</td>\n",
              "      <td>d5db3a49eb2955</td>\n",
              "      <td>0</td>\n",
              "      <td>0</td>\n",
              "      <td>0.0</td>\n",
              "      <td>0</td>\n",
              "      <td>0</td>\n",
              "      <td>0</td>\n",
              "      <td>92</td>\n",
              "      <td>1126</td>\n",
              "      <td>0</td>\n",
              "      <td>0</td>\n",
              "      <td>0.000</td>\n",
              "      <td>1376</td>\n",
              "      <td>squad-fpp</td>\n",
              "      <td>29</td>\n",
              "      <td>28</td>\n",
              "      <td>-1</td>\n",
              "      <td>0</td>\n",
              "      <td>0.0</td>\n",
              "      <td>0</td>\n",
              "      <td>0.0</td>\n",
              "      <td>0</td>\n",
              "      <td>0</td>\n",
              "      <td>0.0</td>\n",
              "      <td>0</td>\n",
              "      <td>1470</td>\n",
              "      <td>0.0000</td>\n",
              "      <td>0</td>\n",
              "    </tr>\n",
              "    <tr>\n",
              "      <th>1</th>\n",
              "      <td>a32847cf5bf34b</td>\n",
              "      <td>85b7ce5a12e10b</td>\n",
              "      <td>65223f05c7fdb4</td>\n",
              "      <td>0</td>\n",
              "      <td>0</td>\n",
              "      <td>163.2</td>\n",
              "      <td>1</td>\n",
              "      <td>1</td>\n",
              "      <td>0</td>\n",
              "      <td>42</td>\n",
              "      <td>1309</td>\n",
              "      <td>1</td>\n",
              "      <td>1</td>\n",
              "      <td>6.589</td>\n",
              "      <td>1370</td>\n",
              "      <td>squad-fpp</td>\n",
              "      <td>28</td>\n",
              "      <td>28</td>\n",
              "      <td>-1</td>\n",
              "      <td>0</td>\n",
              "      <td>0.0</td>\n",
              "      <td>0</td>\n",
              "      <td>0.0</td>\n",
              "      <td>0</td>\n",
              "      <td>0</td>\n",
              "      <td>132.7</td>\n",
              "      <td>2</td>\n",
              "      <td>1531</td>\n",
              "      <td>0.2222</td>\n",
              "      <td>1</td>\n",
              "    </tr>\n",
              "    <tr>\n",
              "      <th>2</th>\n",
              "      <td>1b1900a9990396</td>\n",
              "      <td>edf80d6523380a</td>\n",
              "      <td>1cadec4534f30a</td>\n",
              "      <td>0</td>\n",
              "      <td>3</td>\n",
              "      <td>278.7</td>\n",
              "      <td>2</td>\n",
              "      <td>1</td>\n",
              "      <td>8</td>\n",
              "      <td>16</td>\n",
              "      <td>0</td>\n",
              "      <td>2</td>\n",
              "      <td>1</td>\n",
              "      <td>23.070</td>\n",
              "      <td>1381</td>\n",
              "      <td>squad-fpp</td>\n",
              "      <td>29</td>\n",
              "      <td>27</td>\n",
              "      <td>1479</td>\n",
              "      <td>3</td>\n",
              "      <td>0.0</td>\n",
              "      <td>0</td>\n",
              "      <td>0.0</td>\n",
              "      <td>0</td>\n",
              "      <td>0</td>\n",
              "      <td>3591.0</td>\n",
              "      <td>10</td>\n",
              "      <td>0</td>\n",
              "      <td>0.8571</td>\n",
              "      <td>1</td>\n",
              "    </tr>\n",
              "    <tr>\n",
              "      <th>3</th>\n",
              "      <td>f589dd03b60bf2</td>\n",
              "      <td>804ab5e5585558</td>\n",
              "      <td>c4a5676dc91604</td>\n",
              "      <td>0</td>\n",
              "      <td>0</td>\n",
              "      <td>191.9</td>\n",
              "      <td>1</td>\n",
              "      <td>0</td>\n",
              "      <td>0</td>\n",
              "      <td>31</td>\n",
              "      <td>0</td>\n",
              "      <td>1</td>\n",
              "      <td>1</td>\n",
              "      <td>24.890</td>\n",
              "      <td>1708</td>\n",
              "      <td>squad</td>\n",
              "      <td>27</td>\n",
              "      <td>25</td>\n",
              "      <td>1500</td>\n",
              "      <td>0</td>\n",
              "      <td>0.0</td>\n",
              "      <td>0</td>\n",
              "      <td>0.0</td>\n",
              "      <td>0</td>\n",
              "      <td>0</td>\n",
              "      <td>332.7</td>\n",
              "      <td>3</td>\n",
              "      <td>0</td>\n",
              "      <td>0.3462</td>\n",
              "      <td>0</td>\n",
              "    </tr>\n",
              "    <tr>\n",
              "      <th>4</th>\n",
              "      <td>c23c4cc5b78b35</td>\n",
              "      <td>b3e2cd169ed920</td>\n",
              "      <td>cd595700a01bfa</td>\n",
              "      <td>0</td>\n",
              "      <td>0</td>\n",
              "      <td>100.0</td>\n",
              "      <td>1</td>\n",
              "      <td>0</td>\n",
              "      <td>0</td>\n",
              "      <td>87</td>\n",
              "      <td>1332</td>\n",
              "      <td>0</td>\n",
              "      <td>0</td>\n",
              "      <td>0.000</td>\n",
              "      <td>1807</td>\n",
              "      <td>squad-fpp</td>\n",
              "      <td>30</td>\n",
              "      <td>30</td>\n",
              "      <td>-1</td>\n",
              "      <td>0</td>\n",
              "      <td>0.0</td>\n",
              "      <td>0</td>\n",
              "      <td>0.0</td>\n",
              "      <td>0</td>\n",
              "      <td>0</td>\n",
              "      <td>252.7</td>\n",
              "      <td>3</td>\n",
              "      <td>1557</td>\n",
              "      <td>0.0690</td>\n",
              "      <td>0</td>\n",
              "    </tr>\n",
              "  </tbody>\n",
              "</table>\n",
              "</div>"
            ],
            "text/plain": [
              "               Id         groupId  ... winPlacePerc  kill\n",
              "0  2f262dd9795e60  78437bcd91d40e  ...       0.0000     0\n",
              "1  a32847cf5bf34b  85b7ce5a12e10b  ...       0.2222     1\n",
              "2  1b1900a9990396  edf80d6523380a  ...       0.8571     1\n",
              "3  f589dd03b60bf2  804ab5e5585558  ...       0.3462     0\n",
              "4  c23c4cc5b78b35  b3e2cd169ed920  ...       0.0690     0\n",
              "\n",
              "[5 rows x 30 columns]"
            ]
          },
          "metadata": {
            "tags": []
          },
          "execution_count": 36
        }
      ]
    },
    {
      "cell_type": "markdown",
      "metadata": {
        "id": "NP6-lJczcQB8"
      },
      "source": [
        "Task-21"
      ]
    },
    {
      "cell_type": "code",
      "metadata": {
        "id": "WwYdQlS3cRWA"
      },
      "source": [
        "df['winPlacePerc'].round(decimals=2)"
      ],
      "execution_count": null,
      "outputs": []
    }
  ]
}
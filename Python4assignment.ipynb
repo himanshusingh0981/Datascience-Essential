{
  "nbformat": 4,
  "nbformat_minor": 0,
  "metadata": {
    "colab": {
      "name": "Python4assignment.ipynb",
      "provenance": [],
      "authorship_tag": "ABX9TyPsZoEKnbir4gLYu/6we/ra",
      "include_colab_link": true
    },
    "kernelspec": {
      "name": "python3",
      "display_name": "Python 3"
    }
  },
  "cells": [
    {
      "cell_type": "markdown",
      "metadata": {
        "id": "view-in-github",
        "colab_type": "text"
      },
      "source": [
        "<a href=\"https://colab.research.google.com/github/himanshusingh0981/Datascience-Essential/blob/main/Python4assignment.ipynb\" target=\"_parent\"><img src=\"https://colab.research.google.com/assets/colab-badge.svg\" alt=\"Open In Colab\"/></a>"
      ]
    },
    {
      "cell_type": "markdown",
      "metadata": {
        "id": "AEDYBG60goJ1"
      },
      "source": [
        "#DAY 4 ASSIGNMENT 4"
      ]
    },
    {
      "cell_type": "markdown",
      "metadata": {
        "id": "2CBGAGfZgqYf"
      },
      "source": [
        "#Questions 1:\n",
        "How to import pandas and check the version?\n"
      ]
    },
    {
      "cell_type": "code",
      "metadata": {
        "id": "xPYtSh0uguZ8",
        "outputId": "f10ddb91-24ff-4441-9ce4-74b71d75f1f5",
        "colab": {
          "base_uri": "https://localhost:8080/"
        }
      },
      "source": [
        "import pandas as pd\n",
        "print(pd.__version__)"
      ],
      "execution_count": null,
      "outputs": [
        {
          "output_type": "stream",
          "text": [
            "1.1.4\n"
          ],
          "name": "stdout"
        }
      ]
    },
    {
      "cell_type": "markdown",
      "metadata": {
        "id": "9EhADtjWg084"
      },
      "source": [
        "Questions 2:\n",
        "How to create a series from a numpy array?"
      ]
    },
    {
      "cell_type": "code",
      "metadata": {
        "id": "KJHQ8U04g5rz",
        "outputId": "fa625fe5-23be-4f13-a7b6-0e3dcfa63caf",
        "colab": {
          "base_uri": "https://localhost:8080/"
        }
      },
      "source": [
        "import numpy as np\n",
        "arr=np.array([1,2,34,5,6,43])\n",
        "series=pd.Series(arr)\n",
        "print(series)"
      ],
      "execution_count": null,
      "outputs": [
        {
          "output_type": "stream",
          "text": [
            "0     1\n",
            "1     2\n",
            "2    34\n",
            "3     5\n",
            "4     6\n",
            "5    43\n",
            "dtype: int64\n"
          ],
          "name": "stdout"
        }
      ]
    },
    {
      "cell_type": "markdown",
      "metadata": {
        "id": "lb_rN717hAaC"
      },
      "source": [
        "Questions 3:\n",
        "How to convert the index of a series into a column of a dataframe?\n"
      ]
    },
    {
      "cell_type": "code",
      "metadata": {
        "id": "EgWXXMFjiqqD",
        "outputId": "eeecdd91-27a2-45d6-ba69-dd30b60393dd",
        "colab": {
          "base_uri": "https://localhost:8080/"
        }
      },
      "source": [
        "import numpy as np\n",
        "import pandas as pd\n",
        "\n",
        "employees = [(11, 'jack', 34, 'Sydney', 70000) ,\n",
        "          (12, 'Riti', 31, 'Delhi' , 77000) ,\n",
        "          (13, 'Aadi', 16, 'Mumbai', 81000) ,\n",
        "          (14, 'Mohit', 31,'Delhi' , 90000) ,\n",
        "          (15, 'Veena', 12, 'Delhi' , 91000) ,\n",
        "          (16, 'Shaunak', 35, 'Mumbai', 75000 ),\n",
        "          (17, 'Shaun', 35, 'Colombo', 63000)\n",
        "           ]\n",
        "\n",
        "Dataset=pd.DataFrame(employees,columns=[\"Id\",\"Name\",\"Rollno\",\"State\",\"Salary\"])\n",
        "Dataset['index']=Dataset.index\n",
        "print(Dataset)\n"
      ],
      "execution_count": 4,
      "outputs": [
        {
          "output_type": "stream",
          "text": [
            "   Id     Name  Rollno    State  Salary  index\n",
            "0  11     jack      34   Sydney   70000      0\n",
            "1  12     Riti      31    Delhi   77000      1\n",
            "2  13     Aadi      16   Mumbai   81000      2\n",
            "3  14    Mohit      31    Delhi   90000      3\n",
            "4  15    Veena      12    Delhi   91000      4\n",
            "5  16  Shaunak      35   Mumbai   75000      5\n",
            "6  17    Shaun      35  Colombo   63000      6\n"
          ],
          "name": "stdout"
        }
      ]
    },
    {
      "cell_type": "markdown",
      "metadata": {
        "id": "gs5u-Fa6iwq_"
      },
      "source": [
        "Questions 4:\n",
        "Write the code to list all the datasets available in seaborn library.\n",
        "Load the 'mpg' dataset\n",
        "Note: mpg dataset will be read from seaborn module in the manner sir has already shown(provided in the\n",
        "materials folder)\n"
      ]
    },
    {
      "cell_type": "code",
      "metadata": {
        "id": "NnCfsFfYixx9",
        "outputId": "4ed1ee55-3c64-460d-99dc-e2552d4c1b0d",
        "colab": {
          "base_uri": "https://localhost:8080/"
        }
      },
      "source": [
        "import seaborn as sbn\n",
        "dataset_all=sbn.get_dataset_names()\n",
        "print(dataset_all)\n",
        "data=sbn.load_dataset('mpg')\n",
        "print(data)\n"
      ],
      "execution_count": 5,
      "outputs": [
        {
          "output_type": "stream",
          "text": [
            "['anagrams', 'anscombe', 'attention', 'brain_networks', 'car_crashes', 'diamonds', 'dots', 'exercise', 'flights', 'fmri', 'gammas', 'geyser', 'iris', 'mpg', 'penguins', 'planets', 'tips', 'titanic']\n",
            "      mpg  cylinders  ...  origin                       name\n",
            "0    18.0          8  ...     usa  chevrolet chevelle malibu\n",
            "1    15.0          8  ...     usa          buick skylark 320\n",
            "2    18.0          8  ...     usa         plymouth satellite\n",
            "3    16.0          8  ...     usa              amc rebel sst\n",
            "4    17.0          8  ...     usa                ford torino\n",
            "..    ...        ...  ...     ...                        ...\n",
            "393  27.0          4  ...     usa            ford mustang gl\n",
            "394  44.0          4  ...  europe                  vw pickup\n",
            "395  32.0          4  ...     usa              dodge rampage\n",
            "396  28.0          4  ...     usa                ford ranger\n",
            "397  31.0          4  ...     usa                 chevy s-10\n",
            "\n",
            "[398 rows x 9 columns]\n"
          ],
          "name": "stdout"
        }
      ]
    },
    {
      "cell_type": "markdown",
      "metadata": {
        "id": "h3NLt0zMi6kn"
      },
      "source": [
        "Questions 5:\n",
        "Which country origin cars are a part of this dataset?\n"
      ]
    },
    {
      "cell_type": "code",
      "metadata": {
        "id": "bCbqRkski97Z",
        "outputId": "54714c91-35c2-41d4-9bef-e5499d97f097",
        "colab": {
          "base_uri": "https://localhost:8080/"
        }
      },
      "source": [
        "import pandas as pd\n",
        "d=sbn.load_dataset('mpg')\n",
        "data=pd.DataFrame(d)\n",
        "print(data['origin'].unique())\n"
      ],
      "execution_count": 6,
      "outputs": [
        {
          "output_type": "stream",
          "text": [
            "['usa' 'japan' 'europe']\n"
          ],
          "name": "stdout"
        }
      ]
    },
    {
      "cell_type": "markdown",
      "metadata": {
        "id": "m26fWSerjAPE"
      },
      "source": [
        "Questions 6:\n",
        "Extract the part of the dataframe which contains cars belonging to 'usa'\n"
      ]
    },
    {
      "cell_type": "code",
      "metadata": {
        "id": "y6F7jZmwjCL1",
        "outputId": "554feeff-83d4-4e37-f5aa-ad3e9864dedc",
        "colab": {
          "base_uri": "https://localhost:8080/"
        }
      },
      "source": [
        "import seaborn as sbn\n",
        "import pandas as pd\n",
        "d=sbn.load_dataset('mpg')\n",
        "data=pd.DataFrame(d)\n",
        "print(data[data['origin']=='usa'])\n"
      ],
      "execution_count": 7,
      "outputs": [
        {
          "output_type": "stream",
          "text": [
            "      mpg  cylinders  ...  origin                       name\n",
            "0    18.0          8  ...     usa  chevrolet chevelle malibu\n",
            "1    15.0          8  ...     usa          buick skylark 320\n",
            "2    18.0          8  ...     usa         plymouth satellite\n",
            "3    16.0          8  ...     usa              amc rebel sst\n",
            "4    17.0          8  ...     usa                ford torino\n",
            "..    ...        ...  ...     ...                        ...\n",
            "392  27.0          4  ...     usa           chevrolet camaro\n",
            "393  27.0          4  ...     usa            ford mustang gl\n",
            "395  32.0          4  ...     usa              dodge rampage\n",
            "396  28.0          4  ...     usa                ford ranger\n",
            "397  31.0          4  ...     usa                 chevy s-10\n",
            "\n",
            "[249 rows x 9 columns]\n"
          ],
          "name": "stdout"
        }
      ]
    }
  ]
}